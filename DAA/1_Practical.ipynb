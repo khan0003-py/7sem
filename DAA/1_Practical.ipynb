{
 "cells": [
  {
   "cell_type": "code",
   "execution_count": 23,
   "metadata": {},
   "outputs": [
    {
     "name": "stdout",
     "output_type": "stream",
     "text": [
      "[0, 1, 1, 2, 3, 5, 8, 13, 21, 34, 55]\n",
      "9\n"
     ]
    }
   ],
   "source": [
    "def fibonacci_loop(n):\n",
    "    step_count = 0\n",
    "    if n == 0:\n",
    "        return 0, step_count\n",
    "    elif n == 1:\n",
    "        return 1, step_count + 1\n",
    "\n",
    "    a, b = 0, 1\n",
    "    res = [a,b]\n",
    "    for _ in range(2, n + 1):\n",
    "        step_count += 1\n",
    "        a, b = b, a + b\n",
    "        res.append(b)\n",
    "\n",
    "    return res, step_count\n",
    "\n",
    "# Usage example\n",
    "result, step_count = fibonacci_loop(10)\n",
    "print(result)       # The 10th Fibonacci number\n",
    "print(step_count)   # Number of steps"
   ]
  },
  {
   "cell_type": "code",
   "execution_count": 21,
   "metadata": {},
   "outputs": [
    {
     "name": "stdout",
     "output_type": "stream",
     "text": [
      "[0, 1, 1, 2, 3, 5, 8, 13, 21, 34, 55]\n",
      "29\n"
     ]
    }
   ],
   "source": [
    "res = []\n",
    "count = 0\n",
    "memo = {}\n",
    "\n",
    "def fibonacci_memo(n):\n",
    "    global count\n",
    "    count += 1\n",
    "    \n",
    "    if n in memo:\n",
    "        return memo[n]\n",
    "    \n",
    "    if n == 0:\n",
    "        memo[n] = 0\n",
    "    elif n == 1:\n",
    "        memo[n] = 1\n",
    "    else:\n",
    "        memo[n] = fibonacci_memo(n-2) + fibonacci_memo(n-1)\n",
    "    \n",
    "    return memo[n]\n",
    "\n",
    "for x in range(11):\n",
    "    res.append(fibonacci_memo(x))\n",
    "\n",
    "print(res)\n",
    "print(count)"
   ]
  },
  {
   "cell_type": "code",
   "execution_count": 22,
   "metadata": {},
   "outputs": [
    {
     "name": "stdout",
     "output_type": "stream",
     "text": [
      "[0, 1, 1, 2, 3, 5, 8, 13, 21, 34, 55]\n",
      "453\n"
     ]
    }
   ],
   "source": [
    "res = []\n",
    "count = 0\n",
    "def fibonacci_recursive(n):\n",
    "    global count\n",
    "    count += 1\n",
    "    if n == 0:\n",
    "        return 0\n",
    "    elif n == 1:\n",
    "        return 1\n",
    "    else:\n",
    "        return fibonacci_recursive(n-2) + fibonacci_recursive(n-1)\n",
    "\n",
    "for x in range(11):\n",
    "    res.append(fibonacci_recursive(x))\n",
    "\n",
    "print(res)\n",
    "print(count)"
   ]
  }
 ],
 "metadata": {
  "kernelspec": {
   "display_name": "Python 3",
   "language": "python",
   "name": "python3"
  },
  "language_info": {
   "codemirror_mode": {
    "name": "ipython",
    "version": 3
   },
   "file_extension": ".py",
   "mimetype": "text/x-python",
   "name": "python",
   "nbconvert_exporter": "python",
   "pygments_lexer": "ipython3",
   "version": "3.13.0"
  }
 },
 "nbformat": 4,
 "nbformat_minor": 2
}
